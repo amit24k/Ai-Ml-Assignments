{
  "nbformat": 4,
  "nbformat_minor": 0,
  "metadata": {
    "colab": {
      "name": "Home Assignment 1(Amit Kumar_E17CSE048).ipynb",
      "provenance": []
    },
    "kernelspec": {
      "name": "python3",
      "display_name": "Python 3"
    }
  },
  "cells": [
    {
      "cell_type": "code",
      "metadata": {
        "id": "2ZR7OKFch29b",
        "colab_type": "code",
        "colab": {}
      },
      "source": [
        "import pandas as pd\n",
        "from sklearn.tree import DecisionTreeClassifier \n",
        "from sklearn.model_selection import train_test_split\n",
        "from sklearn import metrics \n",
        "from sklearn import preprocessing"
      ],
      "execution_count": 0,
      "outputs": []
    },
    {
      "cell_type": "code",
      "metadata": {
        "colab_type": "code",
        "id": "OLxjJNZPqHtb",
        "outputId": "19d77386-9572-46fb-c905-7fb837cf3e47",
        "colab": {
          "base_uri": "https://localhost:8080/",
          "height": 195
        }
      },
      "source": [
        "df = pd.read_csv(\"fertility_Diagnosis.txt\")\n",
        "df.head()"
      ],
      "execution_count": 0,
      "outputs": [
        {
          "output_type": "execute_result",
          "data": {
            "text/html": [
              "<div>\n",
              "<style scoped>\n",
              "    .dataframe tbody tr th:only-of-type {\n",
              "        vertical-align: middle;\n",
              "    }\n",
              "\n",
              "    .dataframe tbody tr th {\n",
              "        vertical-align: top;\n",
              "    }\n",
              "\n",
              "    .dataframe thead th {\n",
              "        text-align: right;\n",
              "    }\n",
              "</style>\n",
              "<table border=\"1\" class=\"dataframe\">\n",
              "  <thead>\n",
              "    <tr style=\"text-align: right;\">\n",
              "      <th></th>\n",
              "      <th>-0.33</th>\n",
              "      <th>0.69</th>\n",
              "      <th>0</th>\n",
              "      <th>1</th>\n",
              "      <th>1.1</th>\n",
              "      <th>0.1</th>\n",
              "      <th>0.8</th>\n",
              "      <th>0.2</th>\n",
              "      <th>0.88</th>\n",
              "      <th>0.3</th>\n",
              "    </tr>\n",
              "  </thead>\n",
              "  <tbody>\n",
              "    <tr>\n",
              "      <th>0</th>\n",
              "      <td>-0.33</td>\n",
              "      <td>0.94</td>\n",
              "      <td>1</td>\n",
              "      <td>0</td>\n",
              "      <td>1</td>\n",
              "      <td>0</td>\n",
              "      <td>0.8</td>\n",
              "      <td>1</td>\n",
              "      <td>0.31</td>\n",
              "      <td>1</td>\n",
              "    </tr>\n",
              "    <tr>\n",
              "      <th>1</th>\n",
              "      <td>-0.33</td>\n",
              "      <td>0.50</td>\n",
              "      <td>1</td>\n",
              "      <td>0</td>\n",
              "      <td>0</td>\n",
              "      <td>0</td>\n",
              "      <td>1.0</td>\n",
              "      <td>-1</td>\n",
              "      <td>0.50</td>\n",
              "      <td>0</td>\n",
              "    </tr>\n",
              "    <tr>\n",
              "      <th>2</th>\n",
              "      <td>-0.33</td>\n",
              "      <td>0.75</td>\n",
              "      <td>0</td>\n",
              "      <td>1</td>\n",
              "      <td>1</td>\n",
              "      <td>0</td>\n",
              "      <td>1.0</td>\n",
              "      <td>-1</td>\n",
              "      <td>0.38</td>\n",
              "      <td>0</td>\n",
              "    </tr>\n",
              "    <tr>\n",
              "      <th>3</th>\n",
              "      <td>-0.33</td>\n",
              "      <td>0.67</td>\n",
              "      <td>1</td>\n",
              "      <td>1</td>\n",
              "      <td>0</td>\n",
              "      <td>0</td>\n",
              "      <td>0.8</td>\n",
              "      <td>-1</td>\n",
              "      <td>0.50</td>\n",
              "      <td>1</td>\n",
              "    </tr>\n",
              "    <tr>\n",
              "      <th>4</th>\n",
              "      <td>-0.33</td>\n",
              "      <td>0.67</td>\n",
              "      <td>1</td>\n",
              "      <td>0</td>\n",
              "      <td>1</td>\n",
              "      <td>0</td>\n",
              "      <td>0.8</td>\n",
              "      <td>0</td>\n",
              "      <td>0.50</td>\n",
              "      <td>0</td>\n",
              "    </tr>\n",
              "  </tbody>\n",
              "</table>\n",
              "</div>"
            ],
            "text/plain": [
              "   -0.33  0.69  0  1  1.1  0.1  0.8  0.2  0.88  0.3\n",
              "0  -0.33  0.94  1  0    1    0  0.8    1  0.31    1\n",
              "1  -0.33  0.50  1  0    0    0  1.0   -1  0.50    0\n",
              "2  -0.33  0.75  0  1    1    0  1.0   -1  0.38    0\n",
              "3  -0.33  0.67  1  1    0    0  0.8   -1  0.50    1\n",
              "4  -0.33  0.67  1  0    1    0  0.8    0  0.50    0"
            ]
          },
          "metadata": {
            "tags": []
          },
          "execution_count": 347
        }
      ]
    },
    {
      "cell_type": "code",
      "metadata": {
        "colab_type": "code",
        "id": "mFyvbVtJu4Nr",
        "outputId": "5debf328-c8a5-48e1-8ccb-1621404619d4",
        "colab": {
          "base_uri": "https://localhost:8080/",
          "height": 1000
        }
      },
      "source": [
        "X = df.iloc[:,0:9] # Features\n",
        "y = df.iloc[:,-1] # Target variable\n",
        "print(X)\n",
        "print(y)"
      ],
      "execution_count": 0,
      "outputs": [
        {
          "output_type": "stream",
          "text": [
            "    -0.33  0.69  0  1  1.1  0.1  0.8  0.2  0.88\n",
            "0   -0.33  0.94  1  0    1    0  0.8    1  0.31\n",
            "1   -0.33  0.50  1  0    0    0  1.0   -1  0.50\n",
            "2   -0.33  0.75  0  1    1    0  1.0   -1  0.38\n",
            "3   -0.33  0.67  1  1    0    0  0.8   -1  0.50\n",
            "4   -0.33  0.67  1  0    1    0  0.8    0  0.50\n",
            "5   -0.33  0.67  0  0    0   -1  0.8   -1  0.44\n",
            "6   -0.33  1.00  1  1    1    0  0.6   -1  0.38\n",
            "7    1.00  0.64  0  0    1    0  0.8   -1  0.25\n",
            "8    1.00  0.61  1  0    0    0  1.0   -1  0.25\n",
            "9    1.00  0.67  1  1    0   -1  0.8    0  0.31\n",
            "10   1.00  0.78  1  1    1    0  0.6    0  0.13\n",
            "11   1.00  0.75  1  1    1    0  0.8    1  0.25\n",
            "12   1.00  0.81  1  0    0    0  1.0   -1  0.38\n",
            "13   1.00  0.94  1  1    1    0  0.2   -1  0.25\n",
            "14   1.00  0.81  1  1    0    0  1.0    1  0.50\n",
            "15   1.00  0.64  1  0    1    0  1.0   -1  0.38\n",
            "16   1.00  0.69  1  0    1    0  0.8   -1  0.25\n",
            "17   1.00  0.75  1  1    1    0  1.0    1  0.25\n",
            "18   1.00  0.67  1  0    0    0  0.8    1  0.38\n",
            "19   1.00  0.67  0  0    1    0  0.8   -1  0.25\n",
            "20   1.00  0.75  1  0    0    0  0.6    0  0.25\n",
            "21   1.00  0.67  1  1    0    0  0.8   -1  0.25\n",
            "22   1.00  0.69  1  0    1   -1  1.0   -1  0.44\n",
            "23   1.00  0.56  1  0    1    0  1.0   -1  0.63\n",
            "24   1.00  0.67  1  0    0    0  1.0   -1  0.25\n",
            "25   1.00  0.67  1  0    1    0  0.6   -1  0.38\n",
            "26   1.00  0.78  1  1    0    1  0.6   -1  0.38\n",
            "27   1.00  0.58  0  0    1    0  1.0   -1  0.19\n",
            "28   1.00  0.67  0  0    1    0  0.6    0  0.50\n",
            "29   1.00  0.61  1  0    1    0  1.0   -1  0.63\n",
            "..    ...   ... .. ..  ...  ...  ...  ...   ...\n",
            "69  -0.33  0.50  1  1    0   -1  0.8    0  0.88\n",
            "70   0.33  0.69  1  0    0    1  1.0   -1  0.31\n",
            "71   1.00  0.56  1  0    0    1  0.6    0  0.50\n",
            "72  -1.00  0.50  1  0    0    1  0.8   -1  0.44\n",
            "73  -1.00  0.53  1  0    0    1  0.8   -1  0.63\n",
            "74  -1.00  0.78  1  0    1    1  1.0    1  0.25\n",
            "75  -1.00  0.75  1  0    1    1  0.6    0  0.56\n",
            "76  -1.00  0.72  1  1    1    1  0.8   -1  0.19\n",
            "77  -1.00  0.53  1  1    0    1  0.8   -1  0.38\n",
            "78  -1.00  1.00  1  0    1    1  0.6    0  0.25\n",
            "79  -0.33  0.92  1  1    0    1  1.0   -1  0.63\n",
            "80  -1.00  0.81  1  1    1    1  0.8    0  0.19\n",
            "81  -0.33  0.92  1  0    0    1  0.6   -1  0.19\n",
            "82  -0.33  0.86  1  1    1    1  1.0   -1  0.25\n",
            "83  -0.33  0.78  1  0    0    1  1.0    1  0.06\n",
            "84  -0.33  0.89  1  1    0    0  0.6    1  0.31\n",
            "85  -0.33  0.75  1  1    1    0  0.6    1  0.25\n",
            "86  -0.33  0.75  1  1    1    1  0.8    1  0.25\n",
            "87  -0.33  0.83  1  1    1    0  1.0   -1  0.31\n",
            "88  -0.33  0.81  1  1    1    0  1.0    1  0.38\n",
            "89  -0.33  0.81  1  1    1    1  0.8   -1  0.38\n",
            "90   0.33  0.78  1  0    0    0  1.0    1  0.06\n",
            "91   0.33  0.75  1  1    0    0  0.8   -1  0.38\n",
            "92   0.33  0.75  1  0    1    0  0.8   -1  0.44\n",
            "93   1.00  0.58  1  0    0    0  0.6    1  0.50\n",
            "94  -1.00  0.67  1  0    0    0  1.0   -1  0.50\n",
            "95  -1.00  0.61  1  0    0    0  0.8    0  0.50\n",
            "96  -1.00  0.67  1  1    1    0  1.0   -1  0.31\n",
            "97  -1.00  0.64  1  0    1    0  1.0    0  0.19\n",
            "98  -1.00  0.69  0  1    1    0  0.6   -1  0.19\n",
            "\n",
            "[99 rows x 9 columns]\n",
            "0     1\n",
            "1     0\n",
            "2     0\n",
            "3     1\n",
            "4     0\n",
            "5     0\n",
            "6     0\n",
            "7     0\n",
            "8     0\n",
            "9     0\n",
            "10    0\n",
            "11    0\n",
            "12    0\n",
            "13    0\n",
            "14    0\n",
            "15    0\n",
            "16    1\n",
            "17    0\n",
            "18    1\n",
            "19    0\n",
            "20    0\n",
            "21    0\n",
            "22    1\n",
            "23    0\n",
            "24    0\n",
            "25    1\n",
            "26    1\n",
            "27    0\n",
            "28    1\n",
            "29    0\n",
            "     ..\n",
            "69    1\n",
            "70    0\n",
            "71    0\n",
            "72    0\n",
            "73    0\n",
            "74    0\n",
            "75    0\n",
            "76    0\n",
            "77    0\n",
            "78    0\n",
            "79    0\n",
            "80    0\n",
            "81    0\n",
            "82    0\n",
            "83    1\n",
            "84    0\n",
            "85    0\n",
            "86    0\n",
            "87    0\n",
            "88    0\n",
            "89    0\n",
            "90    0\n",
            "91    0\n",
            "92    1\n",
            "93    0\n",
            "94    0\n",
            "95    0\n",
            "96    0\n",
            "97    0\n",
            "98    0\n",
            "Name: 0.3, Length: 99, dtype: int64\n"
          ],
          "name": "stdout"
        }
      ]
    },
    {
      "cell_type": "code",
      "metadata": {
        "colab_type": "code",
        "id": "TwifVwKhy9FN",
        "colab": {}
      },
      "source": [
        "normalized_X = preprocessing.normalize(X)"
      ],
      "execution_count": 0,
      "outputs": []
    },
    {
      "cell_type": "code",
      "metadata": {
        "colab_type": "code",
        "id": "9QCmPknLvWli",
        "colab": {}
      },
      "source": [
        "X_train, X_test, y_train, y_test = train_test_split(X, y, test_size=0.5, random_state=0)\n"
      ],
      "execution_count": 0,
      "outputs": []
    },
    {
      "cell_type": "code",
      "metadata": {
        "colab_type": "code",
        "id": "H5l0NjGfvYnS",
        "colab": {}
      },
      "source": [
        "clf = DecisionTreeClassifier(random_state=0)\n",
        "clf = clf.fit(X_train,y_train)\n",
        "y_pred = clf.predict(X_test)"
      ],
      "execution_count": 0,
      "outputs": []
    },
    {
      "cell_type": "code",
      "metadata": {
        "id": "z4WjKFBOxKK4",
        "colab_type": "code",
        "outputId": "b1092e23-ec55-4aa9-ef27-6f8412ec361c",
        "colab": {
          "base_uri": "https://localhost:8080/",
          "height": 34
        }
      },
      "source": [
        "print(\"Accuracy:\", metrics.accuracy_score(y_test, y_pred))"
      ],
      "execution_count": 0,
      "outputs": [
        {
          "output_type": "stream",
          "text": [
            "Accuracy: 0.78\n"
          ],
          "name": "stdout"
        }
      ]
    },
    {
      "cell_type": "code",
      "metadata": {
        "colab_type": "code",
        "id": "a1ZqUkT7b2Xd",
        "outputId": "f0f8dd65-fa31-4adb-9e22-986d8a821096",
        "colab": {
          "base_uri": "https://localhost:8080/",
          "height": 154
        }
      },
      "source": [
        "from sklearn.linear_model import LogisticRegression\n",
        "logreg = LogisticRegression(random_state=0)\n",
        "logreg.fit(X_train, y_train)"
      ],
      "execution_count": 0,
      "outputs": [
        {
          "output_type": "stream",
          "text": [
            "/usr/local/lib/python3.6/dist-packages/sklearn/linear_model/logistic.py:432: FutureWarning: Default solver will be changed to 'lbfgs' in 0.22. Specify a solver to silence this warning.\n",
            "  FutureWarning)\n"
          ],
          "name": "stderr"
        },
        {
          "output_type": "execute_result",
          "data": {
            "text/plain": [
              "LogisticRegression(C=1.0, class_weight=None, dual=False, fit_intercept=True,\n",
              "                   intercept_scaling=1, l1_ratio=None, max_iter=100,\n",
              "                   multi_class='warn', n_jobs=None, penalty='l2',\n",
              "                   random_state=0, solver='warn', tol=0.0001, verbose=0,\n",
              "                   warm_start=False)"
            ]
          },
          "metadata": {
            "tags": []
          },
          "execution_count": 329
        }
      ]
    },
    {
      "cell_type": "code",
      "metadata": {
        "colab_type": "code",
        "id": "QoyQlLTyxGrw",
        "outputId": "88c3b703-9cae-4c91-e18e-27546c24abef",
        "colab": {
          "base_uri": "https://localhost:8080/",
          "height": 34
        }
      },
      "source": [
        "print('Accuracy of logistic regression classifier on test set: {:.2f}'.format(logreg.score(X_test, y_test)))"
      ],
      "execution_count": 0,
      "outputs": [
        {
          "output_type": "stream",
          "text": [
            "Accuracy of logistic regression classifier on test set: 0.86\n"
          ],
          "name": "stdout"
        }
      ]
    },
    {
      "cell_type": "code",
      "metadata": {
        "colab_type": "code",
        "id": "K2J0_dssxb70",
        "outputId": "587b1f43-784f-478d-f6aa-641a3eade872",
        "colab": {
          "base_uri": "https://localhost:8080/",
          "height": 168
        }
      },
      "source": [
        "from sklearn.metrics import classification_report\n",
        "print(classification_report(y_test, y_pred))"
      ],
      "execution_count": 0,
      "outputs": [
        {
          "output_type": "stream",
          "text": [
            "              precision    recall  f1-score   support\n",
            "\n",
            "           0       0.87      0.89      0.88        44\n",
            "           1       0.00      0.00      0.00         6\n",
            "\n",
            "    accuracy                           0.78        50\n",
            "   macro avg       0.43      0.44      0.44        50\n",
            "weighted avg       0.76      0.78      0.77        50\n",
            "\n"
          ],
          "name": "stdout"
        }
      ]
    },
    {
      "cell_type": "code",
      "metadata": {
        "colab_type": "code",
        "id": "n0pp_85w6KB6",
        "colab": {}
      },
      "source": [
        "from sklearn.linear_model import Perceptron"
      ],
      "execution_count": 0,
      "outputs": []
    },
    {
      "cell_type": "code",
      "metadata": {
        "colab_type": "code",
        "id": "42JU70w28YPi",
        "outputId": "75b1498d-fa4d-4c4d-e2b8-98ff0a771b24",
        "colab": {
          "base_uri": "https://localhost:8080/",
          "height": 84
        }
      },
      "source": [
        "pn = Perceptron(tol=1e-3, random_state=0)\n",
        "pn.fit(X_train, y_train)"
      ],
      "execution_count": 0,
      "outputs": [
        {
          "output_type": "execute_result",
          "data": {
            "text/plain": [
              "Perceptron(alpha=0.0001, class_weight=None, early_stopping=False, eta0=1.0,\n",
              "           fit_intercept=True, max_iter=1000, n_iter_no_change=5, n_jobs=None,\n",
              "           penalty=None, random_state=0, shuffle=True, tol=0.001,\n",
              "           validation_fraction=0.1, verbose=0, warm_start=False)"
            ]
          },
          "metadata": {
            "tags": []
          },
          "execution_count": 333
        }
      ]
    },
    {
      "cell_type": "code",
      "metadata": {
        "colab_type": "code",
        "id": "2bbU18TO8rkK",
        "outputId": "c4ffcaff-15df-4928-8397-bdba52d3cada",
        "colab": {
          "base_uri": "https://localhost:8080/",
          "height": 34
        }
      },
      "source": [
        "pn.score(X_train,y_train,)"
      ],
      "execution_count": 0,
      "outputs": [
        {
          "output_type": "execute_result",
          "data": {
            "text/plain": [
              "0.8979591836734694"
            ]
          },
          "metadata": {
            "tags": []
          },
          "execution_count": 334
        }
      ]
    },
    {
      "cell_type": "code",
      "metadata": {
        "colab_type": "code",
        "id": "Vi8lD-5p841z",
        "outputId": "a52bbcd3-89f9-473b-975b-cf9bc1ad5700",
        "colab": {
          "base_uri": "https://localhost:8080/",
          "height": 34
        }
      },
      "source": [
        "pn.score(X_test,y_test)"
      ],
      "execution_count": 0,
      "outputs": [
        {
          "output_type": "execute_result",
          "data": {
            "text/plain": [
              "0.84"
            ]
          },
          "metadata": {
            "tags": []
          },
          "execution_count": 335
        }
      ]
    },
    {
      "cell_type": "code",
      "metadata": {
        "colab_type": "code",
        "id": "tesETeafBBz5",
        "colab": {}
      },
      "source": [
        "from keras.models import Sequential\n",
        "from keras.layers import Dense\n",
        "from keras.utils import to_categorical"
      ],
      "execution_count": 0,
      "outputs": []
    },
    {
      "cell_type": "code",
      "metadata": {
        "colab_type": "code",
        "id": "wzpI-_ZOZOfm",
        "colab": {}
      },
      "source": [
        "model = Sequential()\n",
        "model.add(Dense(128, activation='relu'))\n",
        "model.add(Dense(64, activation='relu'))\n",
        "model.add(Dense(2, activation='softmax'))"
      ],
      "execution_count": 0,
      "outputs": []
    },
    {
      "cell_type": "code",
      "metadata": {
        "colab_type": "code",
        "id": "o2-1D-mTZpZS",
        "colab": {}
      },
      "source": [
        "model.compile(loss='binary_crossentropy', optimizer='adam', metrics=['accuracy'])"
      ],
      "execution_count": 0,
      "outputs": []
    },
    {
      "cell_type": "code",
      "metadata": {
        "colab_type": "code",
        "id": "WshYrbSHZ1OZ",
        "colab": {}
      },
      "source": [
        "y_test_cat=to_categorical(y_test)\n",
        "y_train_cat=to_categorical(y_train)"
      ],
      "execution_count": 0,
      "outputs": []
    },
    {
      "cell_type": "code",
      "metadata": {
        "colab_type": "code",
        "id": "IGc1_278awLn",
        "outputId": "f65b37ed-5b03-4806-ee3c-cf21d8912335",
        "colab": {
          "base_uri": "https://localhost:8080/",
          "height": 34
        }
      },
      "source": [
        "X_train.shape"
      ],
      "execution_count": 0,
      "outputs": [
        {
          "output_type": "execute_result",
          "data": {
            "text/plain": [
              "(49, 9)"
            ]
          },
          "metadata": {
            "tags": []
          },
          "execution_count": 340
        }
      ]
    },
    {
      "cell_type": "code",
      "metadata": {
        "colab_type": "code",
        "id": "KSrmv3huZuOE",
        "outputId": "a3933047-341d-4af8-90b3-ec7b4d9bf447",
        "colab": {
          "base_uri": "https://localhost:8080/",
          "height": 1000
        }
      },
      "source": [
        "model.fit(X_train.values, y_train_cat, epochs=150, batch_size=10)"
      ],
      "execution_count": 0,
      "outputs": [
        {
          "output_type": "stream",
          "text": [
            "Epoch 1/150\n",
            "49/49 [==============================] - 1s 15ms/step - loss: 0.6140 - acc: 0.7755\n",
            "Epoch 2/150\n",
            "49/49 [==============================] - 0s 227us/step - loss: 0.4593 - acc: 0.8776\n",
            "Epoch 3/150\n",
            "49/49 [==============================] - 0s 231us/step - loss: 0.3676 - acc: 0.8776\n",
            "Epoch 4/150\n",
            "49/49 [==============================] - 0s 273us/step - loss: 0.3396 - acc: 0.8776\n",
            "Epoch 5/150\n",
            "49/49 [==============================] - 0s 228us/step - loss: 0.3268 - acc: 0.8776\n",
            "Epoch 6/150\n",
            "49/49 [==============================] - 0s 231us/step - loss: 0.3211 - acc: 0.8776\n",
            "Epoch 7/150\n",
            "49/49 [==============================] - 0s 226us/step - loss: 0.3132 - acc: 0.8776\n",
            "Epoch 8/150\n",
            "49/49 [==============================] - 0s 261us/step - loss: 0.3056 - acc: 0.8776\n",
            "Epoch 9/150\n",
            "49/49 [==============================] - 0s 225us/step - loss: 0.2973 - acc: 0.8776\n",
            "Epoch 10/150\n",
            "49/49 [==============================] - 0s 203us/step - loss: 0.2907 - acc: 0.8776\n",
            "Epoch 11/150\n",
            "49/49 [==============================] - 0s 292us/step - loss: 0.2838 - acc: 0.8776\n",
            "Epoch 12/150\n",
            "49/49 [==============================] - 0s 288us/step - loss: 0.2760 - acc: 0.8776\n",
            "Epoch 13/150\n",
            "49/49 [==============================] - 0s 233us/step - loss: 0.2704 - acc: 0.8776\n",
            "Epoch 14/150\n",
            "49/49 [==============================] - 0s 220us/step - loss: 0.2640 - acc: 0.8776\n",
            "Epoch 15/150\n",
            "49/49 [==============================] - 0s 260us/step - loss: 0.2579 - acc: 0.8776\n",
            "Epoch 16/150\n",
            "49/49 [==============================] - 0s 337us/step - loss: 0.2505 - acc: 0.8776\n",
            "Epoch 17/150\n",
            "49/49 [==============================] - 0s 236us/step - loss: 0.2438 - acc: 0.8776\n",
            "Epoch 18/150\n",
            "49/49 [==============================] - 0s 245us/step - loss: 0.2357 - acc: 0.8776\n",
            "Epoch 19/150\n",
            "49/49 [==============================] - 0s 293us/step - loss: 0.2295 - acc: 0.8776\n",
            "Epoch 20/150\n",
            "49/49 [==============================] - 0s 284us/step - loss: 0.2218 - acc: 0.8776\n",
            "Epoch 21/150\n",
            "49/49 [==============================] - 0s 262us/step - loss: 0.2150 - acc: 0.8980\n",
            "Epoch 22/150\n",
            "49/49 [==============================] - 0s 247us/step - loss: 0.2055 - acc: 0.9184\n",
            "Epoch 23/150\n",
            "49/49 [==============================] - 0s 274us/step - loss: 0.1987 - acc: 0.9184\n",
            "Epoch 24/150\n",
            "49/49 [==============================] - 0s 261us/step - loss: 0.1913 - acc: 0.9388\n",
            "Epoch 25/150\n",
            "49/49 [==============================] - 0s 300us/step - loss: 0.1854 - acc: 0.9388\n",
            "Epoch 26/150\n",
            "49/49 [==============================] - 0s 306us/step - loss: 0.1772 - acc: 0.9388\n",
            "Epoch 27/150\n",
            "49/49 [==============================] - 0s 317us/step - loss: 0.1697 - acc: 0.9388\n",
            "Epoch 28/150\n",
            "49/49 [==============================] - 0s 283us/step - loss: 0.1627 - acc: 0.9388\n",
            "Epoch 29/150\n",
            "49/49 [==============================] - 0s 255us/step - loss: 0.1560 - acc: 0.9388\n",
            "Epoch 30/150\n",
            "49/49 [==============================] - 0s 276us/step - loss: 0.1500 - acc: 0.9388\n",
            "Epoch 31/150\n",
            "49/49 [==============================] - 0s 236us/step - loss: 0.1445 - acc: 0.9592\n",
            "Epoch 32/150\n",
            "49/49 [==============================] - 0s 239us/step - loss: 0.1389 - acc: 0.9592\n",
            "Epoch 33/150\n",
            "49/49 [==============================] - 0s 242us/step - loss: 0.1310 - acc: 0.9592\n",
            "Epoch 34/150\n",
            "49/49 [==============================] - 0s 317us/step - loss: 0.1269 - acc: 0.9592\n",
            "Epoch 35/150\n",
            "49/49 [==============================] - 0s 281us/step - loss: 0.1218 - acc: 0.9592\n",
            "Epoch 36/150\n",
            "49/49 [==============================] - 0s 276us/step - loss: 0.1173 - acc: 0.9592\n",
            "Epoch 37/150\n",
            "49/49 [==============================] - 0s 249us/step - loss: 0.1139 - acc: 0.9592\n",
            "Epoch 38/150\n",
            "49/49 [==============================] - 0s 211us/step - loss: 0.1087 - acc: 0.9592\n",
            "Epoch 39/150\n",
            "49/49 [==============================] - 0s 280us/step - loss: 0.1037 - acc: 0.9592\n",
            "Epoch 40/150\n",
            "49/49 [==============================] - 0s 283us/step - loss: 0.1005 - acc: 0.9592\n",
            "Epoch 41/150\n",
            "49/49 [==============================] - 0s 268us/step - loss: 0.0962 - acc: 0.9592\n",
            "Epoch 42/150\n",
            "49/49 [==============================] - 0s 229us/step - loss: 0.0931 - acc: 0.9592\n",
            "Epoch 43/150\n",
            "49/49 [==============================] - 0s 210us/step - loss: 0.0900 - acc: 0.9592\n",
            "Epoch 44/150\n",
            "49/49 [==============================] - 0s 205us/step - loss: 0.0867 - acc: 0.9592\n",
            "Epoch 45/150\n",
            "49/49 [==============================] - 0s 256us/step - loss: 0.0841 - acc: 0.9592\n",
            "Epoch 46/150\n",
            "49/49 [==============================] - 0s 258us/step - loss: 0.0790 - acc: 0.9592\n",
            "Epoch 47/150\n",
            "49/49 [==============================] - 0s 216us/step - loss: 0.0767 - acc: 0.9796\n",
            "Epoch 48/150\n",
            "49/49 [==============================] - 0s 243us/step - loss: 0.0746 - acc: 0.9796\n",
            "Epoch 49/150\n",
            "49/49 [==============================] - 0s 275us/step - loss: 0.0722 - acc: 0.9796\n",
            "Epoch 50/150\n",
            "49/49 [==============================] - 0s 238us/step - loss: 0.0689 - acc: 0.9796\n",
            "Epoch 51/150\n",
            "49/49 [==============================] - 0s 239us/step - loss: 0.0669 - acc: 0.9796\n",
            "Epoch 52/150\n",
            "49/49 [==============================] - 0s 391us/step - loss: 0.0668 - acc: 0.9796\n",
            "Epoch 53/150\n",
            "49/49 [==============================] - 0s 298us/step - loss: 0.0660 - acc: 0.9796\n",
            "Epoch 54/150\n",
            "49/49 [==============================] - 0s 251us/step - loss: 0.0636 - acc: 0.9796\n",
            "Epoch 55/150\n",
            "49/49 [==============================] - 0s 298us/step - loss: 0.0601 - acc: 0.9796\n",
            "Epoch 56/150\n",
            "49/49 [==============================] - 0s 263us/step - loss: 0.0598 - acc: 0.9796\n",
            "Epoch 57/150\n",
            "49/49 [==============================] - 0s 235us/step - loss: 0.0589 - acc: 0.9796\n",
            "Epoch 58/150\n",
            "49/49 [==============================] - 0s 243us/step - loss: 0.0573 - acc: 0.9592\n",
            "Epoch 59/150\n",
            "49/49 [==============================] - 0s 229us/step - loss: 0.0562 - acc: 0.9592\n",
            "Epoch 60/150\n",
            "49/49 [==============================] - 0s 246us/step - loss: 0.0543 - acc: 0.9796\n",
            "Epoch 61/150\n",
            "49/49 [==============================] - 0s 304us/step - loss: 0.0530 - acc: 0.9796\n",
            "Epoch 62/150\n",
            "49/49 [==============================] - 0s 242us/step - loss: 0.0510 - acc: 0.9796\n",
            "Epoch 63/150\n",
            "49/49 [==============================] - 0s 233us/step - loss: 0.0522 - acc: 0.9796\n",
            "Epoch 64/150\n",
            "49/49 [==============================] - 0s 238us/step - loss: 0.0497 - acc: 0.9796\n",
            "Epoch 65/150\n",
            "49/49 [==============================] - 0s 238us/step - loss: 0.0484 - acc: 0.9796\n",
            "Epoch 66/150\n",
            "49/49 [==============================] - 0s 228us/step - loss: 0.0494 - acc: 0.9796\n",
            "Epoch 67/150\n",
            "49/49 [==============================] - 0s 273us/step - loss: 0.0467 - acc: 0.9796\n",
            "Epoch 68/150\n",
            "49/49 [==============================] - 0s 241us/step - loss: 0.0475 - acc: 0.9796\n",
            "Epoch 69/150\n",
            "49/49 [==============================] - 0s 255us/step - loss: 0.0470 - acc: 0.9592\n",
            "Epoch 70/150\n",
            "49/49 [==============================] - 0s 286us/step - loss: 0.0456 - acc: 0.9796\n",
            "Epoch 71/150\n",
            "49/49 [==============================] - 0s 277us/step - loss: 0.0448 - acc: 0.9796\n",
            "Epoch 72/150\n",
            "49/49 [==============================] - 0s 290us/step - loss: 0.0443 - acc: 0.9796\n",
            "Epoch 73/150\n",
            "49/49 [==============================] - 0s 260us/step - loss: 0.0432 - acc: 0.9796\n",
            "Epoch 74/150\n",
            "49/49 [==============================] - 0s 300us/step - loss: 0.0437 - acc: 0.9796\n",
            "Epoch 75/150\n",
            "49/49 [==============================] - 0s 258us/step - loss: 0.0421 - acc: 0.9796\n",
            "Epoch 76/150\n",
            "49/49 [==============================] - 0s 252us/step - loss: 0.0417 - acc: 0.9796\n",
            "Epoch 77/150\n",
            "49/49 [==============================] - 0s 229us/step - loss: 0.0415 - acc: 0.9796\n",
            "Epoch 78/150\n",
            "49/49 [==============================] - 0s 239us/step - loss: 0.0413 - acc: 0.9796\n",
            "Epoch 79/150\n",
            "49/49 [==============================] - 0s 240us/step - loss: 0.0400 - acc: 0.9796\n",
            "Epoch 80/150\n",
            "49/49 [==============================] - 0s 305us/step - loss: 0.0400 - acc: 0.9796\n",
            "Epoch 81/150\n",
            "49/49 [==============================] - 0s 291us/step - loss: 0.0397 - acc: 0.9796\n",
            "Epoch 82/150\n",
            "49/49 [==============================] - 0s 281us/step - loss: 0.0402 - acc: 0.9796\n",
            "Epoch 83/150\n",
            "49/49 [==============================] - 0s 275us/step - loss: 0.0388 - acc: 0.9796\n",
            "Epoch 84/150\n",
            "49/49 [==============================] - 0s 323us/step - loss: 0.0405 - acc: 0.9592\n",
            "Epoch 85/150\n",
            "49/49 [==============================] - 0s 275us/step - loss: 0.0391 - acc: 0.9592\n",
            "Epoch 86/150\n",
            "49/49 [==============================] - 0s 336us/step - loss: 0.0373 - acc: 0.9796\n",
            "Epoch 87/150\n",
            "49/49 [==============================] - 0s 298us/step - loss: 0.0373 - acc: 0.9796\n",
            "Epoch 88/150\n",
            "49/49 [==============================] - 0s 308us/step - loss: 0.0373 - acc: 0.9592\n",
            "Epoch 89/150\n",
            "49/49 [==============================] - 0s 262us/step - loss: 0.0380 - acc: 0.9796\n",
            "Epoch 90/150\n",
            "49/49 [==============================] - 0s 265us/step - loss: 0.0379 - acc: 0.9796\n",
            "Epoch 91/150\n",
            "49/49 [==============================] - 0s 313us/step - loss: 0.0379 - acc: 0.9796\n",
            "Epoch 92/150\n",
            "49/49 [==============================] - 0s 327us/step - loss: 0.0379 - acc: 0.9592\n",
            "Epoch 93/150\n",
            "49/49 [==============================] - 0s 244us/step - loss: 0.0363 - acc: 0.9796\n",
            "Epoch 94/150\n",
            "49/49 [==============================] - 0s 512us/step - loss: 0.0361 - acc: 0.9796\n",
            "Epoch 95/150\n",
            "49/49 [==============================] - 0s 387us/step - loss: 0.0363 - acc: 0.9796\n",
            "Epoch 96/150\n",
            "49/49 [==============================] - 0s 323us/step - loss: 0.0364 - acc: 0.9592\n",
            "Epoch 97/150\n",
            "49/49 [==============================] - 0s 293us/step - loss: 0.0349 - acc: 0.9796\n",
            "Epoch 98/150\n",
            "49/49 [==============================] - 0s 327us/step - loss: 0.0347 - acc: 0.9796\n",
            "Epoch 99/150\n",
            "49/49 [==============================] - 0s 294us/step - loss: 0.0343 - acc: 0.9796\n",
            "Epoch 100/150\n",
            "49/49 [==============================] - 0s 317us/step - loss: 0.0352 - acc: 0.9592\n",
            "Epoch 101/150\n",
            "49/49 [==============================] - 0s 304us/step - loss: 0.0345 - acc: 0.9796\n",
            "Epoch 102/150\n",
            "49/49 [==============================] - 0s 258us/step - loss: 0.0338 - acc: 0.9796\n",
            "Epoch 103/150\n",
            "49/49 [==============================] - 0s 363us/step - loss: 0.0355 - acc: 0.9796\n",
            "Epoch 104/150\n",
            "49/49 [==============================] - 0s 268us/step - loss: 0.0362 - acc: 0.9592\n",
            "Epoch 105/150\n",
            "49/49 [==============================] - 0s 294us/step - loss: 0.0335 - acc: 0.9796\n",
            "Epoch 106/150\n",
            "49/49 [==============================] - 0s 266us/step - loss: 0.0337 - acc: 0.9796\n",
            "Epoch 107/150\n",
            "49/49 [==============================] - 0s 326us/step - loss: 0.0337 - acc: 0.9796\n",
            "Epoch 108/150\n",
            "49/49 [==============================] - 0s 225us/step - loss: 0.0349 - acc: 0.9592\n",
            "Epoch 109/150\n",
            "49/49 [==============================] - 0s 240us/step - loss: 0.0333 - acc: 0.9796\n",
            "Epoch 110/150\n",
            "49/49 [==============================] - 0s 244us/step - loss: 0.0327 - acc: 0.9796\n",
            "Epoch 111/150\n",
            "49/49 [==============================] - 0s 225us/step - loss: 0.0331 - acc: 0.9796\n",
            "Epoch 112/150\n",
            "49/49 [==============================] - 0s 242us/step - loss: 0.0331 - acc: 0.9796\n",
            "Epoch 113/150\n",
            "49/49 [==============================] - 0s 223us/step - loss: 0.0337 - acc: 0.9796\n",
            "Epoch 114/150\n",
            "49/49 [==============================] - 0s 224us/step - loss: 0.0339 - acc: 0.9592\n",
            "Epoch 115/150\n",
            "49/49 [==============================] - 0s 251us/step - loss: 0.0328 - acc: 0.9592\n",
            "Epoch 116/150\n",
            "49/49 [==============================] - 0s 238us/step - loss: 0.0334 - acc: 0.9796\n",
            "Epoch 117/150\n",
            "49/49 [==============================] - 0s 243us/step - loss: 0.0333 - acc: 0.9592\n",
            "Epoch 118/150\n",
            "49/49 [==============================] - 0s 237us/step - loss: 0.0336 - acc: 0.9796\n",
            "Epoch 119/150\n",
            "49/49 [==============================] - 0s 236us/step - loss: 0.0327 - acc: 0.9796\n",
            "Epoch 120/150\n",
            "49/49 [==============================] - 0s 248us/step - loss: 0.0345 - acc: 0.9592\n",
            "Epoch 121/150\n",
            "49/49 [==============================] - 0s 280us/step - loss: 0.0330 - acc: 0.9592\n",
            "Epoch 122/150\n",
            "49/49 [==============================] - 0s 271us/step - loss: 0.0321 - acc: 0.9796\n",
            "Epoch 123/150\n",
            "49/49 [==============================] - 0s 273us/step - loss: 0.0324 - acc: 0.9592\n",
            "Epoch 124/150\n",
            "49/49 [==============================] - 0s 316us/step - loss: 0.0321 - acc: 0.9796\n",
            "Epoch 125/150\n",
            "49/49 [==============================] - 0s 245us/step - loss: 0.0316 - acc: 0.9796\n",
            "Epoch 126/150\n",
            "49/49 [==============================] - 0s 250us/step - loss: 0.0325 - acc: 0.9796\n",
            "Epoch 127/150\n",
            "49/49 [==============================] - 0s 246us/step - loss: 0.0323 - acc: 0.9796\n",
            "Epoch 128/150\n",
            "49/49 [==============================] - 0s 246us/step - loss: 0.0336 - acc: 0.9592\n",
            "Epoch 129/150\n",
            "49/49 [==============================] - 0s 241us/step - loss: 0.0327 - acc: 0.9592\n",
            "Epoch 130/150\n",
            "49/49 [==============================] - 0s 239us/step - loss: 0.0319 - acc: 0.9592\n",
            "Epoch 131/150\n",
            "49/49 [==============================] - 0s 252us/step - loss: 0.0310 - acc: 0.9796\n",
            "Epoch 132/150\n",
            "49/49 [==============================] - 0s 226us/step - loss: 0.0318 - acc: 0.9592\n",
            "Epoch 133/150\n",
            "49/49 [==============================] - 0s 284us/step - loss: 0.0316 - acc: 0.9592\n",
            "Epoch 134/150\n",
            "49/49 [==============================] - 0s 369us/step - loss: 0.0308 - acc: 0.9796\n",
            "Epoch 135/150\n",
            "49/49 [==============================] - 0s 469us/step - loss: 0.0313 - acc: 0.9796\n",
            "Epoch 136/150\n",
            "49/49 [==============================] - 0s 274us/step - loss: 0.0307 - acc: 0.9796\n",
            "Epoch 137/150\n",
            "49/49 [==============================] - 0s 328us/step - loss: 0.0315 - acc: 0.9796\n",
            "Epoch 138/150\n",
            "49/49 [==============================] - 0s 362us/step - loss: 0.0325 - acc: 0.9592\n",
            "Epoch 139/150\n",
            "49/49 [==============================] - 0s 245us/step - loss: 0.0306 - acc: 0.9796\n",
            "Epoch 140/150\n",
            "49/49 [==============================] - 0s 242us/step - loss: 0.0310 - acc: 0.9796\n",
            "Epoch 141/150\n",
            "49/49 [==============================] - 0s 241us/step - loss: 0.0310 - acc: 0.9796\n",
            "Epoch 142/150\n",
            "49/49 [==============================] - 0s 310us/step - loss: 0.0311 - acc: 0.9592\n",
            "Epoch 143/150\n",
            "49/49 [==============================] - 0s 306us/step - loss: 0.0314 - acc: 0.9592\n",
            "Epoch 144/150\n",
            "49/49 [==============================] - 0s 259us/step - loss: 0.0316 - acc: 0.9592\n",
            "Epoch 145/150\n",
            "49/49 [==============================] - 0s 293us/step - loss: 0.0309 - acc: 0.9796\n",
            "Epoch 146/150\n",
            "49/49 [==============================] - 0s 281us/step - loss: 0.0318 - acc: 0.9592\n",
            "Epoch 147/150\n",
            "49/49 [==============================] - 0s 309us/step - loss: 0.0327 - acc: 0.9592\n",
            "Epoch 148/150\n",
            "49/49 [==============================] - 0s 255us/step - loss: 0.0328 - acc: 0.9592\n",
            "Epoch 149/150\n",
            "49/49 [==============================] - 0s 225us/step - loss: 0.0325 - acc: 0.9592\n",
            "Epoch 150/150\n",
            "49/49 [==============================] - 0s 280us/step - loss: 0.0306 - acc: 0.9796\n"
          ],
          "name": "stdout"
        },
        {
          "output_type": "execute_result",
          "data": {
            "text/plain": [
              "<keras.callbacks.History at 0x7fb8261c85c0>"
            ]
          },
          "metadata": {
            "tags": []
          },
          "execution_count": 341
        }
      ]
    },
    {
      "cell_type": "code",
      "metadata": {
        "colab_type": "code",
        "id": "ADPrNCOsaos3",
        "outputId": "4947a009-1665-4823-bca5-c1ddfa3b97f1",
        "colab": {
          "base_uri": "https://localhost:8080/",
          "height": 50
        }
      },
      "source": [
        "_, accuracy = model.evaluate(X_train, y_train_cat)\n",
        "print('Accuracy: %.2f' % (accuracy))"
      ],
      "execution_count": 0,
      "outputs": [
        {
          "output_type": "stream",
          "text": [
            "49/49 [==============================] - 0s 5ms/step\n",
            "Accuracy: 0.98\n"
          ],
          "name": "stdout"
        }
      ]
    },
    {
      "cell_type": "code",
      "metadata": {
        "colab_type": "code",
        "id": "GGPMkaBneJGJ",
        "outputId": "ebfba781-dd14-43ee-f1f4-84a011c85937",
        "colab": {
          "base_uri": "https://localhost:8080/",
          "height": 50
        }
      },
      "source": [
        "_, accuracy = model.evaluate(X_test, y_test_cat)\n",
        "print('Accuracy: %.2f' % (accuracy))"
      ],
      "execution_count": 0,
      "outputs": [
        {
          "output_type": "stream",
          "text": [
            "50/50 [==============================] - 0s 112us/step\n",
            "Accuracy: 0.84\n"
          ],
          "name": "stdout"
        }
      ]
    },
    {
      "cell_type": "code",
      "metadata": {
        "id": "cqFUrteRyhNq",
        "colab_type": "code",
        "colab": {}
      },
      "source": [
        "from sklearn.ensemble import RandomForestClassifier\n",
        "classifier = RandomForestClassifier(n_estimators = 900, criterion = 'gini', random_state = 0)\n",
        "classifier.fit(X_train, y_train)\n",
        "y_pred = classifier.predict(X_test)"
      ],
      "execution_count": 0,
      "outputs": []
    },
    {
      "cell_type": "code",
      "metadata": {
        "colab_type": "code",
        "outputId": "f26373f2-5b64-4e0b-c829-7ee6d0bd9b7f",
        "id": "TgBAqBJcOtvn",
        "colab": {
          "base_uri": "https://localhost:8080/",
          "height": 34
        }
      },
      "source": [
        "print(\"Accuracy:\", metrics.accuracy_score(y_test, y_pred))"
      ],
      "execution_count": 0,
      "outputs": [
        {
          "output_type": "stream",
          "text": [
            "Accuracy: 0.88\n"
          ],
          "name": "stdout"
        }
      ]
    },
    {
      "cell_type": "code",
      "metadata": {
        "id": "uE3FsslxWc8s",
        "colab_type": "code",
        "colab": {}
      },
      "source": [
        ""
      ],
      "execution_count": 0,
      "outputs": []
    }
  ]
}